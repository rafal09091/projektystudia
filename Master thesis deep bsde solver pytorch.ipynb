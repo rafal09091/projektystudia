{
 "cells": [
  {
   "cell_type": "code",
   "execution_count": 1,
   "id": "e2ea7802",
   "metadata": {},
   "outputs": [],
   "source": [
    "import numpy as np\n",
    "import torch \n",
    "import torch.nn as nn\n",
    "import matplotlib.pyplot as plt\n",
    "import time"
   ]
  },
  {
   "cell_type": "code",
   "execution_count": 2,
   "id": "44136021",
   "metadata": {},
   "outputs": [],
   "source": [
    "N=100\n",
    "T=1 \n",
    "d=5\n",
    "device=torch.device(\"cpu\")"
   ]
  },
  {
   "cell_type": "code",
   "execution_count": 3,
   "id": "6e9c8fa3",
   "metadata": {},
   "outputs": [],
   "source": [
    "def b(s,x,y):\n",
    "    return torch.zeros(100)\n",
    "def sigma(s,x,y):\n",
    "    return 0.3*y*torch.eye(100)\n",
    "def g(x):\n",
    "    return 0.1*torch.sin(x).sum()\n",
    "def g2(x):\n",
    "    return torch.sum(0.1*torch.sin(x),1)\n",
    "def f(s,x,y,z):\n",
    "    return -0.1*y+(torch.tensor([0.5])*(g(x)**3))*(np.exp(1)**(-0.027*(T-s)))\n",
    "def ksi(batch):\n",
    "    return 10*torch.rand(batch,100)-5"
   ]
  },
  {
   "cell_type": "code",
   "execution_count": 4,
   "id": "464011c0",
   "metadata": {},
   "outputs": [],
   "source": [
    "class scheme(nn.Module):\n",
    "    def __init__(self, N, T, d):\n",
    "        super(scheme, self).__init__()\n",
    "        #\n",
    "        self.N=N\n",
    "        self.T=T\n",
    "        self.d=d\n",
    "        self.dt=torch.tensor(T/N)\n",
    "        self.dev=torch.sqrt(self.dt)\n",
    "        #\n",
    "        self.relu = nn.ReLU()\n",
    "        self.tanh= nn.Tanh()\n",
    "        self.muu = nn.Linear(1, 1, bias=False)\n",
    "        #\n",
    "        self.phi1=nn.ModuleList()\n",
    "        self.bn_phi12=nn.ModuleList()\n",
    "        self.phi2=nn.ModuleList()\n",
    "        self.bn_phi23=nn.ModuleList()\n",
    "        self.phi3=nn.ModuleList()\n",
    "        for i in range(self.N):\n",
    "            a = nn.Linear(d+1, d+10) \n",
    "            self.phi1.append(a)\n",
    "            del(a)\n",
    "            a=nn.BatchNorm1d(d+10)\n",
    "            self.bn_phi12.append(a)\n",
    "            del(a)\n",
    "            a = nn.Linear(d+10, d+10)\n",
    "            self.phi2.append(a)\n",
    "            del(a)\n",
    "            a =nn.BatchNorm1d(d+10)\n",
    "            self.bn_phi23.append(a)\n",
    "            del(a)\n",
    "            a = nn.Linear(d+10, d)\n",
    "            self.phi3.append(a)\n",
    "            del(a)\n",
    "    def forward(self,inpt):\n",
    "        X=inpt[:,self.N,:]\n",
    "        dW=self.dev*inpt[:,:self.N,:]\n",
    "        Y = self.muu(torch.ones(X.shape[0],1))\n",
    "        for i in range(self.N):\n",
    "            t=i*self.dt\n",
    "            c=torch.cat((X,Y),dim=1)\n",
    "            Z=self.phi1[i](c)\n",
    "            Z=self.bn_phi12[i](Z)\n",
    "            Z=self.relu(Z)\n",
    "            Z=self.phi2[i](Z)\n",
    "            Z=self.bn_phi23[i](Z)\n",
    "            Z=self.relu(Z)\n",
    "            Z=self.phi3[i](Z)\n",
    "            X_old=X\n",
    "            X=X+0.3*Y*dW[:,i,:]\n",
    "            Y=Y-self.dt*(-0.1*Y+torch.exp(-0.3*(self.T-t))*0.0005*0.09*torch.pow(torch.sum(torch.sin(X_old),dim=1,keepdim=True),3))+torch.sum(Z*dW[:,i,:],dim=1,keepdim=True)\n",
    "        return (0.1*torch.sum(torch.sin(X),dim=1,keepdim=True)-Y)\n",
    "    def toplot(self,inpt):\n",
    "        X=inpt[:,self.N,:]\n",
    "        dW=self.dev*inpt[:,:self.N,:]\n",
    "        Y = self.muu(torch.ones(X.shape[0],1))\n",
    "        Ys=np.zeros([self.N+1,64])\n",
    "        Ys[0]=(Y.detach().numpy())[:,0]\n",
    "        for i in range(self.N):\n",
    "            t=i*self.dt\n",
    "            c=torch.cat((X,Y),dim=1)\n",
    "            Z=self.phi1[i](c)\n",
    "            Z=self.bn_phi12[i](Z)\n",
    "            Z=self.relu(Z)\n",
    "            Z=self.phi2[i](Z)\n",
    "            Z=self.bn_phi23[i](Z)\n",
    "            Z=self.relu(Z)\n",
    "            Z=self.phi3[i](Z)\n",
    "            X_old=X\n",
    "            X=X+0.3*Y*dW[:,i,:]\n",
    "            Y=Y-self.dt*(-0.1*Y+torch.exp(-0.3*(self.T-t))*0.0005*0.09*torch.pow(torch.sum(torch.sin(X_old),dim=1,keepdim=True),3))+torch.sum(Z*dW[:,i,:],dim=1,keepdim=True)\n",
    "            Ys[i+1]=(Y.detach().numpy())[:,0]\n",
    "        return Ys\n",
    "    def mu(self):\n",
    "        with torch.no_grad():\n",
    "            Y = self.muu((torch.ones(1,1)))\n",
    "        return Y"
   ]
  },
  {
   "cell_type": "code",
   "execution_count": 5,
   "id": "bef0dd21",
   "metadata": {},
   "outputs": [],
   "source": [
    "model = scheme(N,T,d)\n",
    "optimizer = torch.optim.Adam(model.parameters(), lr=0.001,weight_decay=7*1e-4)"
   ]
  },
  {
   "cell_type": "code",
   "execution_count": 6,
   "id": "2feb6720",
   "metadata": {
    "scrolled": true
   },
   "outputs": [
    {
     "name": "stdout",
     "output_type": "stream",
     "text": [
      "Parameter containing:\n",
      "tensor([[0.0027]], requires_grad=True)\n",
      "tensor(1.3009, grad_fn=<MeanBackward0>)\n",
      "Parameter containing:\n",
      "tensor([[0.2317]], requires_grad=True)\n",
      "tensor(0.3705, grad_fn=<MeanBackward0>)\n",
      "Parameter containing:\n",
      "tensor([[0.3715]], requires_grad=True)\n",
      "tensor(0.1415, grad_fn=<MeanBackward0>)\n",
      "Parameter containing:\n",
      "tensor([[0.4252]], requires_grad=True)\n",
      "tensor(0.0644, grad_fn=<MeanBackward0>)\n",
      "Parameter containing:\n",
      "tensor([[0.4422]], requires_grad=True)\n",
      "tensor(0.0336, grad_fn=<MeanBackward0>)\n",
      "Parameter containing:\n",
      "tensor([[0.4483]], requires_grad=True)\n",
      "tensor(0.0171, grad_fn=<MeanBackward0>)\n",
      "Parameter containing:\n",
      "tensor([[0.4511]], requires_grad=True)\n",
      "tensor(0.0079, grad_fn=<MeanBackward0>)\n",
      "Parameter containing:\n",
      "tensor([[0.4524]], requires_grad=True)\n",
      "tensor(0.0031, grad_fn=<MeanBackward0>)\n"
     ]
    }
   ],
   "source": [
    "zeros=torch.zeros((64,1))\n",
    "examples=1000\n",
    "a=torch.ones((64*examples,N+1,d))/2\n",
    "X=torch.bernoulli(a)*2-1\n",
    "X[:,N,:]=torch.ones((64*examples,d))*1.5707963267948966\n",
    "for j in range(8):\n",
    "    losses=torch.zeros(examples)\n",
    "    for batch in range(examples):   \n",
    "        scores = model(X[batch*64:(batch+1)*64])\n",
    "        loss = torch.mean(torch.pow(scores,2))\n",
    "        losses[batch]=loss\n",
    "        optimizer.zero_grad()\n",
    "        loss.backward()\n",
    "        optimizer.step()\n",
    "    print(model.muu.weight)\n",
    "    print(torch.mean(losses))\n",
    "del(X)\n",
    "\n"
   ]
  },
  {
   "cell_type": "code",
   "execution_count": 7,
   "id": "f61d96d5",
   "metadata": {},
   "outputs": [
    {
     "data": {
      "text/plain": [
       "0.45241850000000006"
      ]
     },
     "execution_count": 7,
     "metadata": {},
     "output_type": "execute_result"
    }
   ],
   "source": [
    "d/100*9.04837"
   ]
  },
  {
   "cell_type": "code",
   "execution_count": 8,
   "id": "eb4f4d55",
   "metadata": {},
   "outputs": [
    {
     "data": {
      "text/plain": [
       "tensor([[0.4524]])"
      ]
     },
     "execution_count": 8,
     "metadata": {},
     "output_type": "execute_result"
    }
   ],
   "source": [
    "model.mu()"
   ]
  },
  {
   "cell_type": "code",
   "execution_count": 9,
   "id": "ed0a9ecd",
   "metadata": {},
   "outputs": [
    {
     "data": {
      "text/plain": [
       "tensor([[0.0001]])"
      ]
     },
     "execution_count": 9,
     "metadata": {},
     "output_type": "execute_result"
    }
   ],
   "source": [
    "np.abs(d/100*9.04837/model.mu()-1)\n"
   ]
  },
  {
   "cell_type": "code",
   "execution_count": 19,
   "id": "99982ee1",
   "metadata": {},
   "outputs": [
    {
     "data": {
      "text/plain": [
       "(101, 64)"
      ]
     },
     "execution_count": 19,
     "metadata": {},
     "output_type": "execute_result"
    }
   ],
   "source": [
    "zeros=torch.zeros((64,1))\n",
    "examples=1000\n",
    "a=torch.ones((64*examples,N+1,d))/2\n",
    "X=torch.bernoulli(a)*2-1\n",
    "X[:,N,:]=torch.ones((64*examples,d))*1.5707963267948966\n",
    "y=model.toplot(X[0:(0+1)*64])\n",
    "y\n",
    "y.shape\n",
    "\n",
    "\n",
    "\n"
   ]
  },
  {
   "cell_type": "code",
   "execution_count": 20,
   "id": "5110cf1a",
   "metadata": {},
   "outputs": [
    {
     "data": {
      "text/plain": [
       "[<matplotlib.lines.Line2D at 0x25d4b3fa700>]"
      ]
     },
     "execution_count": 20,
     "metadata": {},
     "output_type": "execute_result"
    },
    {
     "data": {
      "image/png": "[encoded data removed]",
      "text/plain": [
       "<Figure size 432x288 with 1 Axes>"
      ]
     },
     "metadata": {
      "needs_background": "light"
     },
     "output_type": "display_data"
    }
   ],
   "source": [
    "plt.plot(y[:,0])\n",
    "plt.plot(y[:,1])\n",
    "plt.plot(y[:,2])\n"
   ]
  },
  {
   "cell_type": "code",
   "execution_count": 12,
   "id": "2ce2381c",
   "metadata": {},
   "outputs": [],
   "source": [
    "a=np.array([[5],[4]])"
   ]
  },
  {
   "cell_type": "code",
   "execution_count": 13,
   "id": "41da31e9",
   "metadata": {},
   "outputs": [
    {
     "data": {
      "text/plain": [
       "array([[5],\n",
       "       [4]])"
      ]
     },
     "execution_count": 13,
     "metadata": {},
     "output_type": "execute_result"
    }
   ],
   "source": [
    "a"
   ]
  },
  {
   "cell_type": "code",
   "execution_count": 14,
   "id": "5eeb8074",
   "metadata": {},
   "outputs": [
    {
     "data": {
      "text/plain": [
       "array([5, 4])"
      ]
     },
     "execution_count": 14,
     "metadata": {},
     "output_type": "execute_result"
    }
   ],
   "source": [
    "a[:,0]"
   ]
  },
  {
   "cell_type": "code",
   "execution_count": null,
   "id": "9743df5a",
   "metadata": {},
   "outputs": [],
   "source": []
  }
 ],
 "metadata": {
  "kernelspec": {
   "display_name": "Python 3",
   "language": "python",
   "name": "python3"
  },
  "language_info": {
   "codemirror_mode": {
    "name": "ipython",
    "version": 3
   },
   "file_extension": ".py",
   "mimetype": "text/x-python",
   "name": "python",
   "nbconvert_exporter": "python",
   "pygments_lexer": "ipython3",
   "version": "3.8.8"
  }
 },
 "nbformat": 4,
 "nbformat_minor": 5
}
